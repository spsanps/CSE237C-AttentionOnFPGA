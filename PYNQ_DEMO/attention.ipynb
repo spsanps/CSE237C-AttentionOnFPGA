{
 "cells": [
  {
   "cell_type": "markdown",
   "metadata": {},
   "source": [
    "## ATTENTION TESTBENCH\n"
   ]
  },
  {
   "cell_type": "code",
   "execution_count": 2,
   "metadata": {},
   "outputs": [],
   "source": [
    "from pynq import Overlay\n",
    "import numpy as np\n",
    "from pynq import Xlnk\n",
    "from pynq.lib import dma\n",
    "from scipy.linalg import dft\n",
    "import matplotlib.pyplot as plt"
   ]
  },
  {
   "cell_type": "code",
   "execution_count": 3,
   "metadata": {},
   "outputs": [],
   "source": [
    "ol=Overlay('attention.bit')"
   ]
  },
  {
   "cell_type": "code",
   "execution_count": 4,
   "metadata": {},
   "outputs": [],
   "source": [
    "dma1=ol.axi_dma_0\n",
    "#dma2=ol.axi_dma_1\n",
    "#dma1.debug=True\n",
    "#dma2.debug=True"
   ]
  },
  {
   "cell_type": "code",
   "execution_count": 23,
   "metadata": {},
   "outputs": [
    {
     "name": "stdout",
     "output_type": "stream",
     "text": [
      "[[ 3 10  5 15  5  0  7 10  2  3 15 15  1 11 12  5]\n",
      " [ 3  9 10  0  0  8  9 12 14  7  4 14  2  2  9 12]\n",
      " [ 3 13 15 10  3 12  6  8 15 12  0  8  1 11  8  6]\n",
      " [ 5 14 10 14  9  6  0  9  8  6  3  0  1  9 13  8]\n",
      " [14  3  9  2 15  9 10  0  6  8  9  3 13  8  8 15]\n",
      " [ 2 10  9  4  7  6 15 15  8 14  8 12 13  3  3  3]\n",
      " [13  8  0  8  0 14 15  1 11  0 11  9 10 11 15 10]\n",
      " [ 6 11 12  6  7 10  9  0 15 10  7 11 13 13  3  0]\n",
      " [11  0 12 15 12  3  0  5 14 12 12 11  2  8 13  2]\n",
      " [11 13  7  3 12  1  2 15  5  9  3 14 14 14  9 11]\n",
      " [ 1  4 12  8 10  2 11  8  0  6  7  3  0 11  8  7]\n",
      " [ 2  8 15  3  4  8  0  2  4  0  7  0  1 15  5  8]\n",
      " [ 6  0  2 14  3 14  0 11 12 10 10  5  9  4  0 15]\n",
      " [ 2  9  0  6 15  8  0 11 11 11  9  6  5  3  8  9]\n",
      " [ 3  8  8  0  0 15  9  3  8  1  5 15 15  3 12  9]\n",
      " [ 0  5  8 12  5  9 14  9 15 10  2  9  3 14 12  7]]\n"
     ]
    }
   ],
   "source": [
    "NUM_SAMPLES = 16*16\n",
    "\n",
    "tokens = np.array([np.random.randint(0, 16) for i in range(NUM_SAMPLES)])\n",
    "print(tokens.reshape(16, 16))"
   ]
  },
  {
   "cell_type": "code",
   "execution_count": 24,
   "metadata": {},
   "outputs": [],
   "source": [
    "xlnk = Xlnk()\n",
    "in_r = xlnk.cma_array(shape=(NUM_SAMPLES,), dtype=np.int32) \n",
    "out_r = xlnk.cma_array(shape=(NUM_SAMPLES,), dtype=np.int32) \n",
    "\n",
    "np.copyto(in_r, tokens)\n"
   ]
  },
  {
   "cell_type": "code",
   "execution_count": 25,
   "metadata": {},
   "outputs": [
    {
     "name": "stdout",
     "output_type": "stream",
     "text": [
      "In1\n",
      "Out1\n"
     ]
    }
   ],
   "source": [
    "\n",
    "dft_ip = ol.attention_0\n",
    "dft_ip.write(0x10,1)\n",
    "# Start the DMA send and recv channels.\n",
    "dma1.recvchannel.start()\n",
    "dma1.sendchannel.start()\n",
    "\n",
    "dma1.sendchannel.transfer(in_r)\n",
    "dma1.sendchannel.wait()\n",
    "print(\"In1\")\n",
    "\n",
    "dma1.recvchannel.transfer(out_r)\n",
    "dma1.recvchannel.wait()\n",
    "print(\"Out1\")\n",
    "\n",
    "\n",
    "\n",
    "\n"
   ]
  },
  {
   "cell_type": "code",
   "execution_count": 26,
   "metadata": {},
   "outputs": [
    {
     "name": "stdout",
     "output_type": "stream",
     "text": [
      "[[ 0 10  8  3  4  4  8  3  6  3  8  5  5  9  1  4]\n",
      " [ 0 10  8  3  4  4  8  3  6  3  8  5  5  9  1  4]\n",
      " [ 0  0  5  3  4  6  6  5 12  4 11  5 10  8  0  1]\n",
      " [ 0 10  8  3  4  4  8  3  6  3  8  5  5  9  1  4]\n",
      " [ 0 10  8  3  4  4  8  3  6  3  8  5  5  9  1  4]\n",
      " [ 0 10  8  3  4  4  8  3  6  3  8  5  5  9  1  4]\n",
      " [ 0 10  8  3  4  4  8  3  6  3  8  5  5  9  1  4]\n",
      " [ 0 10  8  3  4  4  8  3  6  3  8  5  5  9  1  4]\n",
      " [ 0 12  8  7  8  5 10  9 11  5 14  6 14 11  1  2]\n",
      " [ 0 15 11  9  6  7 15  1 12  3 10 11 11  9  4  3]\n",
      " [ 0 12  8  7  8  5 10  9 11  5 14  6 14 11  1  2]\n",
      " [ 0  0  5  3  4  6  6  5 12  4 11  5 10  8  0  1]\n",
      " [ 0 10  8  3  4  4  8  3  6  3  8  5  5  9  1  4]\n",
      " [ 0 10  8  3  4  4  8  3  6  3  8  5  5  9  1  4]\n",
      " [ 0 10  8  3  4  4  8  3  6  3  8  5  5  9  1  4]\n",
      " [ 0 10  8  3  4  4  8  3  6  3  8  5  5  9  1  4]]\n"
     ]
    }
   ],
   "source": [
    "print(out_r.reshape(16, 16))"
   ]
  },
  {
   "cell_type": "code",
   "execution_count": null,
   "metadata": {},
   "outputs": [],
   "source": []
  }
 ],
 "metadata": {
  "kernelspec": {
   "display_name": "Python 3",
   "language": "python",
   "name": "python3"
  },
  "language_info": {
   "codemirror_mode": {
    "name": "ipython",
    "version": 3
   },
   "file_extension": ".py",
   "mimetype": "text/x-python",
   "name": "python",
   "nbconvert_exporter": "python",
   "pygments_lexer": "ipython3",
   "version": "3.6.5"
  }
 },
 "nbformat": 4,
 "nbformat_minor": 2
}
